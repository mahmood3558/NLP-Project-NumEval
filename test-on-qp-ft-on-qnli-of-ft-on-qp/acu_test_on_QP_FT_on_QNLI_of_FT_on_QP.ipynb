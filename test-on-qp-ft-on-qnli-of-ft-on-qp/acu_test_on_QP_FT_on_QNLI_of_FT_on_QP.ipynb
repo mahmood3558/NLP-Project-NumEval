{
  "cells": [
    {
      "cell_type": "markdown",
      "metadata": {
        "id": "Y703yeXTsiSE"
      },
      "source": [
        "# **Normal accuracy**"
      ]
    },
    {
      "cell_type": "code",
      "execution_count": 1,
      "metadata": {
        "colab": {
          "base_uri": "https://localhost:8080/"
        },
        "id": "kbS_WP0Tp603",
        "outputId": "8a5dac15-a75d-40c0-84ac-a294f3c82ed1"
      },
      "outputs": [
        {
          "output_type": "stream",
          "name": "stdout",
          "text": [
            "Requirement already satisfied: gdown in /usr/local/lib/python3.10/dist-packages (4.7.3)\n",
            "Requirement already satisfied: filelock in /usr/local/lib/python3.10/dist-packages (from gdown) (3.13.1)\n",
            "Requirement already satisfied: requests[socks] in /usr/local/lib/python3.10/dist-packages (from gdown) (2.31.0)\n",
            "Requirement already satisfied: six in /usr/local/lib/python3.10/dist-packages (from gdown) (1.16.0)\n",
            "Requirement already satisfied: tqdm in /usr/local/lib/python3.10/dist-packages (from gdown) (4.66.2)\n",
            "Requirement already satisfied: beautifulsoup4 in /usr/local/lib/python3.10/dist-packages (from gdown) (4.12.3)\n",
            "Requirement already satisfied: soupsieve>1.2 in /usr/local/lib/python3.10/dist-packages (from beautifulsoup4->gdown) (2.5)\n",
            "Requirement already satisfied: charset-normalizer<4,>=2 in /usr/local/lib/python3.10/dist-packages (from requests[socks]->gdown) (3.3.2)\n",
            "Requirement already satisfied: idna<4,>=2.5 in /usr/local/lib/python3.10/dist-packages (from requests[socks]->gdown) (3.6)\n",
            "Requirement already satisfied: urllib3<3,>=1.21.1 in /usr/local/lib/python3.10/dist-packages (from requests[socks]->gdown) (2.0.7)\n",
            "Requirement already satisfied: certifi>=2017.4.17 in /usr/local/lib/python3.10/dist-packages (from requests[socks]->gdown) (2024.2.2)\n",
            "Requirement already satisfied: PySocks!=1.5.7,>=1.5.6 in /usr/local/lib/python3.10/dist-packages (from requests[socks]->gdown) (1.7.1)\n"
          ]
        }
      ],
      "source": [
        "!pip install gdown"
      ]
    },
    {
      "cell_type": "code",
      "execution_count": 2,
      "metadata": {
        "id": "fnupIMtJq17F"
      },
      "outputs": [],
      "source": [
        "import re\n",
        "import json"
      ]
    },
    {
      "cell_type": "markdown",
      "metadata": {
        "id": "JYJfuiX7qrR9"
      },
      "source": [
        "# Headline accuracy"
      ]
    },
    {
      "cell_type": "code",
      "execution_count": 3,
      "metadata": {
        "colab": {
          "base_uri": "https://localhost:8080/"
        },
        "id": "Ragr2aOyp-QN",
        "outputId": "411180a4-9970-4304-8006-e5c4ac84ba38"
      },
      "outputs": [
        {
          "output_type": "stream",
          "name": "stdout",
          "text": [
            "Downloading...\n",
            "From: https://huggingface.co/Mahmood1998/SEM_EVAL_2024/resolve/main/task7/task1/QP/fine_tune/normal_fine_tune/test_on_QP_FT_on_QNLI_of_FT_on_QP/test_headline_QP_normal_fine_tune_test_set_model_responses.json?download=true\n",
            "To: /content/headline_model_responses.json\n",
            "100% 5.13M/5.13M [00:00<00:00, 35.5MB/s]\n",
            "Downloading...\n",
            "From: https://huggingface.co/Mahmood1998/SEM_EVAL_2024/resolve/main/task7/task1/QP/fine_tune/normal_fine_tune/test_on_QP_FT_on_QNLI_of_FT_on_QP/test_headline_normal_fine_tune_test_set_true_responses.json.json?download=true\n",
            "To: /content/headline_true_responses.json\n",
            "100% 82.3k/82.3k [00:00<00:00, 11.6MB/s]\n"
          ]
        }
      ],
      "source": [
        "!gdown --fuzzy -O headline_model_responses.json https://huggingface.co/Mahmood1998/SEM_EVAL_2024/resolve/main/task7/task1/QP/fine_tune/normal_fine_tune/test_on_QP_FT_on_QNLI_of_FT_on_QP/test_headline_QP_normal_fine_tune_test_set_model_responses.json?download=true\n",
        "!gdown --fuzzy -O headline_true_responses.json https://huggingface.co/Mahmood1998/SEM_EVAL_2024/resolve/main/task7/task1/QP/fine_tune/normal_fine_tune/test_on_QP_FT_on_QNLI_of_FT_on_QP/test_headline_normal_fine_tune_test_set_true_responses.json.json?download=true"
      ]
    },
    {
      "cell_type": "code",
      "execution_count": 4,
      "metadata": {
        "id": "9m_CBmxfZpLL"
      },
      "outputs": [],
      "source": [
        "json_file_path = 'headline_model_responses.json'\n",
        "\n",
        "# Open the JSON file for reading\n",
        "with open(json_file_path, 'r') as json_file:\n",
        "    # Load the JSON data\n",
        "    headline = json.load(json_file)"
      ]
    },
    {
      "cell_type": "code",
      "execution_count": 5,
      "metadata": {
        "colab": {
          "base_uri": "https://localhost:8080/"
        },
        "id": "JA5LE9rnZpLP",
        "outputId": "8153f914-2957-4524-bdba-380f28481f6b"
      },
      "outputs": [
        {
          "output_type": "execute_result",
          "data": {
            "text/plain": [
              "10000"
            ]
          },
          "metadata": {},
          "execution_count": 5
        }
      ],
      "source": [
        "len(headline)"
      ]
    },
    {
      "cell_type": "code",
      "execution_count": 6,
      "metadata": {
        "id": "Q7_LQ7F4ZpLS"
      },
      "outputs": [],
      "source": [
        "list_dic_headline = []\n",
        "\n",
        "for item in headline:\n",
        "    x:str = item[0].split('\\n')[-1]\n",
        "    # print(x)\n",
        "\n",
        "    if 'assistant' in x :\n",
        "        x = x.split('assistant')[-1]\n",
        "\n",
        "    if '#' in x:\n",
        "        x = x.replace('#','')\n",
        "\n",
        "    if '{' not in x:\n",
        "        x = '{' + x\n",
        "\n",
        "    if '}' not in x:\n",
        "            x = x + '}'\n",
        "\n",
        "\n",
        "    if 'Response: {Response' in x and \"'Response'\" not in x:\n",
        "        y = x.replace('Response: {Response',\"'Response'\")\n",
        "\n",
        "    elif 'response: {response' in x and \"'Response'\" not in x:\n",
        "        y = x.replace('response: {response',\"{'Response'\")\n",
        "\n",
        "    elif \"Response\" in x and \"'Response'\" not in x:\n",
        "        y = x.replace('Response',\"'Response'\")\n",
        "\n",
        "    elif 'response' in x and \"'response'\" not in x:\n",
        "        y = x.replace('response',\"'Response'\")\n",
        "\n",
        "    else:\n",
        "      y = x\n",
        "\n",
        "    q = \"\"\n",
        "    for char in y:\n",
        "        if char.isdigit():\n",
        "            q += char\n",
        "\n",
        "    # try:\n",
        "    #     print(\"try\")\n",
        "    #     res = eval(q)\n",
        "    # except:\n",
        "    #     print(\"except\")\n",
        "    #     c_list = y.split(':')\n",
        "    #     y_part_2 = c_list[-1][:-1]\n",
        "    #     y = c_list[0]+':'+f'\"{y_part_2}\"'+'}'\n",
        "    #     res = eval(y)\n",
        "    list_dic_headline.append(q)"
      ]
    },
    {
      "cell_type": "code",
      "execution_count": 7,
      "metadata": {
        "colab": {
          "base_uri": "https://localhost:8080/"
        },
        "id": "-mY8WnXNZpLT",
        "outputId": "ef2d31c3-56c1-4fb7-8da9-039aa30548ff"
      },
      "outputs": [
        {
          "output_type": "execute_result",
          "data": {
            "text/plain": [
              "10000"
            ]
          },
          "metadata": {},
          "execution_count": 7
        }
      ],
      "source": [
        "len(list_dic_headline)"
      ]
    },
    {
      "cell_type": "code",
      "execution_count": 9,
      "metadata": {
        "id": "NKQ2_sSzZpLT"
      },
      "outputs": [],
      "source": [
        "json_file_path = 'headline_true_responses.json'\n",
        "\n",
        "# Open the JSON file for reading\n",
        "with open(json_file_path, 'r') as json_file:\n",
        "    # Load the JSON data\n",
        "    headline_true = json.load(json_file)"
      ]
    },
    {
      "cell_type": "code",
      "source": [
        "len(headline_true)"
      ],
      "metadata": {
        "colab": {
          "base_uri": "https://localhost:8080/"
        },
        "id": "S9cLQglJ2jnE",
        "outputId": "474c0e08-ef4e-41d7-d1d1-e0f3b96e3d74"
      },
      "execution_count": 11,
      "outputs": [
        {
          "output_type": "execute_result",
          "data": {
            "text/plain": [
              "10000"
            ]
          },
          "metadata": {},
          "execution_count": 11
        }
      ]
    },
    {
      "cell_type": "code",
      "execution_count": 22,
      "metadata": {
        "colab": {
          "base_uri": "https://localhost:8080/"
        },
        "id": "oTITP1G3ZpLU",
        "outputId": "718d4581-1855-46da-d194-2678d406decd"
      },
      "outputs": [
        {
          "output_type": "stream",
          "name": "stdout",
          "text": [
            "Accuracy: 82.58%\n"
          ]
        }
      ],
      "source": [
        "list_wrong = []\n",
        "\n",
        "number_match = 0\n",
        "for predict,true_lable in zip(list_dic_headline, headline_true):\n",
        "\n",
        "    predict_str = str(predict)\n",
        "    predict_update = re.sub(r'[^0-9.]', '', predict_str)\n",
        "\n",
        "    try:\n",
        "        if float(predict_update) == float(true_lable):\n",
        "            number_match += 1\n",
        "        else:\n",
        "            list_wrong.append([f'predict_update: {predict_update}',f'true_lable: {true_lable}'])\n",
        "\n",
        "    except:\n",
        "        1==1\n",
        "        # print(predict)\n",
        "\n",
        "accuracy = number_match/len(list_dic_headline)\n",
        "print(f\"Accuracy: {accuracy * 100:.2f}%\")\n"
      ]
    },
    {
      "cell_type": "markdown",
      "metadata": {
        "id": "13BbBLtjqX8U"
      },
      "source": [
        "# Command accuracy"
      ]
    },
    {
      "cell_type": "code",
      "execution_count": 13,
      "metadata": {
        "colab": {
          "base_uri": "https://localhost:8080/"
        },
        "id": "68vFUzHprHJ1",
        "outputId": "66c5ed25-1471-4b2f-cbc1-30caaf859cf6"
      },
      "outputs": [
        {
          "output_type": "stream",
          "name": "stdout",
          "text": [
            "Downloading...\n",
            "From: https://huggingface.co/Mahmood1998/SEM_EVAL_2024/resolve/main/task7/task1/QP/fine_tune/normal_fine_tune/test_on_QP_FT_on_QNLI_of_FT_on_QP/test_Command_QP_normal_fine_tune_test_set_model_responses.json?download=true\n",
            "To: /content/command_model_responses.json\n",
            "100% 5.61M/5.61M [00:00<00:00, 28.1MB/s]\n",
            "Downloading...\n",
            "From: https://huggingface.co/Mahmood1998/SEM_EVAL_2024/resolve/main/task7/task1/QP/fine_tune/normal_fine_tune/test_on_QP_FT_on_QNLI_of_FT_on_QP/test_Command_QP_normal_fine_tune_test_set_true_response.json?download=true\n",
            "To: /content/command_true_responses.json\n",
            "100% 81.0k/81.0k [00:00<00:00, 137MB/s]\n"
          ]
        }
      ],
      "source": [
        "!gdown --fuzzy -O command_model_responses.json https://huggingface.co/Mahmood1998/SEM_EVAL_2024/resolve/main/task7/task1/QP/fine_tune/normal_fine_tune/test_on_QP_FT_on_QNLI_of_FT_on_QP/test_Command_QP_normal_fine_tune_test_set_model_responses.json?download=true\n",
        "!gdown --fuzzy -O command_true_responses.json https://huggingface.co/Mahmood1998/SEM_EVAL_2024/resolve/main/task7/task1/QP/fine_tune/normal_fine_tune/test_on_QP_FT_on_QNLI_of_FT_on_QP/test_Command_QP_normal_fine_tune_test_set_true_response.json?download=true"
      ]
    },
    {
      "cell_type": "code",
      "execution_count": 14,
      "metadata": {
        "id": "z93PYscJZpLV"
      },
      "outputs": [],
      "source": [
        "json_file_path = 'command_model_responses.json'\n",
        "\n",
        "# Open the JSON file for reading\n",
        "with open(json_file_path, 'r') as json_file:\n",
        "    # Load the JSON data\n",
        "    command = json.load(json_file)"
      ]
    },
    {
      "cell_type": "code",
      "execution_count": 15,
      "metadata": {
        "colab": {
          "base_uri": "https://localhost:8080/"
        },
        "id": "-7ioTkjnZpLV",
        "outputId": "112483dd-bf91-48c8-9727-78c44bc9ba61"
      },
      "outputs": [
        {
          "output_type": "execute_result",
          "data": {
            "text/plain": [
              "10000"
            ]
          },
          "metadata": {},
          "execution_count": 15
        }
      ],
      "source": [
        "len(command)"
      ]
    },
    {
      "cell_type": "code",
      "source": [
        "command[:10]"
      ],
      "metadata": {
        "id": "P22PwNx5PjQl"
      },
      "execution_count": null,
      "outputs": []
    },
    {
      "cell_type": "code",
      "execution_count": 45,
      "metadata": {
        "id": "SmIGv4-dZpLV"
      },
      "outputs": [],
      "source": [
        "list_dic_command = []\n",
        "\n",
        "for item in command:\n",
        "    x:str = item[0].split('\\n')[-1]\n",
        "\n",
        "\n",
        "    if 'assistant' in x :\n",
        "        x = x.split('assistant')[-1]\n",
        "\n",
        "    if '#' in x:\n",
        "        x = x.replace('#','')\n",
        "\n",
        "    if '{' not in x:\n",
        "        x = '{' + x\n",
        "\n",
        "    if '}' not in x:\n",
        "            x = x + '}'\n",
        "\n",
        "\n",
        "    if 'Response: {Response' in x and \"'Response'\" not in x:\n",
        "        y = x.replace('Response: {Response',\"'Response'\")\n",
        "\n",
        "    elif 'response: {response' in x and \"'Response'\" not in x:\n",
        "        y = x.replace('response: {response',\"{'Response'\")\n",
        "\n",
        "    elif \"Response\" in x and \"'Response'\" not in x:\n",
        "        y = x.replace('Response',\"'Response'\")\n",
        "\n",
        "    elif 'response' in x and \"'response'\" not in x:\n",
        "        y = x.replace('response',\"'Response'\")\n",
        "\n",
        "    else:\n",
        "      y=x\n",
        "\n",
        "    q = \"\"\n",
        "    numbers = re.findall(r'[-+]?\\d*\\.\\d+|\\d+', y)\n",
        "    q = [float(num) if '.' in num else int(num) for num in numbers]\n",
        "\n",
        "    # for char in y:\n",
        "    #     if char.isdigit():\n",
        "    #         q += char\n",
        "\n",
        "    # try:\n",
        "    #     res = eval(y)\n",
        "\n",
        "\n",
        "    # except:\n",
        "    #     c_list = y.split(':')\n",
        "    #     y_part_2 = c_list[-1][:-1]\n",
        "    #     y = c_list[0]+':'+f'\"{y_part_2}\"'+'}'\n",
        "    #     res = eval(y)\n",
        "    list_dic_command.append(q)"
      ]
    },
    {
      "cell_type": "code",
      "execution_count": 19,
      "metadata": {
        "id": "kYlGYM5JZpLY"
      },
      "outputs": [],
      "source": [
        "json_file_path = 'command_true_responses.json'\n",
        "\n",
        "# Open the JSON file for reading\n",
        "with open(json_file_path, 'r') as json_file:\n",
        "    # Load the JSON data\n",
        "    command_true = json.load(json_file)"
      ]
    },
    {
      "cell_type": "code",
      "source": [
        "len(command_true)"
      ],
      "metadata": {
        "colab": {
          "base_uri": "https://localhost:8080/"
        },
        "id": "4VS2Yzml3CFG",
        "outputId": "ee8c9b3d-aedd-46ce-a6d5-faeeb069b412"
      },
      "execution_count": 20,
      "outputs": [
        {
          "output_type": "execute_result",
          "data": {
            "text/plain": [
              "10000"
            ]
          },
          "metadata": {},
          "execution_count": 20
        }
      ]
    },
    {
      "cell_type": "code",
      "execution_count": 47,
      "metadata": {
        "colab": {
          "base_uri": "https://localhost:8080/"
        },
        "id": "s8HsUt7sZpLY",
        "outputId": "fb594376-9850-4563-cda6-47919cf3f8ef"
      },
      "outputs": [
        {
          "output_type": "stream",
          "name": "stdout",
          "text": [
            "Accuracy: 83.81%\n",
            "86\n"
          ]
        }
      ],
      "source": [
        "list_wrong = []\n",
        "i = 0\n",
        "number_match = 0\n",
        "for predict,true_lable in zip(list_dic_command,command_true):\n",
        "\n",
        "    predict_str = str(predict)\n",
        "    predict_update = re.sub(r'[^0-9.]', '', predict_str)\n",
        "\n",
        "\n",
        "    try:\n",
        "        if float(predict_update) == float(true_lable):\n",
        "            number_match += 1\n",
        "        else:\n",
        "            list_wrong.append([f'predict_update: {predict_update}',f'true_lable: {true_lable}'])\n",
        "\n",
        "    except:\n",
        "        i += 1\n",
        "        # print(predict)\n",
        "\n",
        "accuracy = number_match/len(list_dic_command)\n",
        "print(f\"Accuracy: {accuracy * 100:.2f}%\")\n",
        "print(i)"
      ]
    }
  ],
  "metadata": {
    "colab": {
      "provenance": []
    },
    "kernelspec": {
      "display_name": "Python 3",
      "language": "python",
      "name": "python3"
    },
    "language_info": {
      "codemirror_mode": {
        "name": "ipython",
        "version": 3
      },
      "file_extension": ".py",
      "mimetype": "text/x-python",
      "name": "python",
      "nbconvert_exporter": "python",
      "pygments_lexer": "ipython3",
      "version": "3.10.12"
    }
  },
  "nbformat": 4,
  "nbformat_minor": 0
}