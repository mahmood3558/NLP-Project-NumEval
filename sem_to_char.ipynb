{
  "cells": [
    {
      "cell_type": "code",
      "execution_count": 3,
      "metadata": {
        "colab": {
          "base_uri": "https://localhost:8080/"
        },
        "id": "QWr2_fh0jYGD",
        "outputId": "88088369-15bc-4b50-9b2d-60639973f4bb"
      },
      "outputs": [
        {
          "name": "stdout",
          "output_type": "stream",
          "text": [
            "It could go  4  5 . 5  1  times as fast as Mohan \\u4579 s old Mercedes $ 5  0  \n"
          ]
        }
      ],
      "source": [
        "input_string = r\"It could go 45.51 times as fast as Mohan \\u4579 s old Mercedes $50\"\n",
        "input_list = input_string.strip().split(' ')\n",
        "string_list = \"\"\n",
        "result = \"\"\n",
        "for item in input_list:\n",
        "    if item.startswith(r'\\u'):\n",
        "        string_list += item + \" \"\n",
        "    else :\n",
        "        result = \"\"\n",
        "        for char in item:\n",
        "            if char.isdigit():\n",
        "                result += f\" {char} \"\n",
        "            else:\n",
        "                result += char\n",
        "        string_list += result + \" \"\n",
        "\n",
        "print(string_list)"
      ]
    }
  ],
  "metadata": {
    "colab": {
      "provenance": []
    },
    "kernelspec": {
      "display_name": "Python 3",
      "name": "python3"
    },
    "language_info": {
      "name": "python"
    }
  },
  "nbformat": 4,
  "nbformat_minor": 0
}
