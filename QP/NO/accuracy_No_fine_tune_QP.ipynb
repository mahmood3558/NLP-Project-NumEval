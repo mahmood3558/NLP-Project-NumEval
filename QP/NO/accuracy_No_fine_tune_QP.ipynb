{
  "cells": [
    {
      "cell_type": "markdown",
      "metadata": {
        "id": "Y703yeXTsiSE"
      },
      "source": [
        "# **No fine tune accuracy**"
      ]
    },
    {
      "cell_type": "code",
      "execution_count": 1,
      "metadata": {
        "colab": {
          "base_uri": "https://localhost:8080/"
        },
        "id": "kbS_WP0Tp603",
        "outputId": "a6c500be-253a-457a-ad7c-242f9a83d924"
      },
      "outputs": [
        {
          "output_type": "stream",
          "name": "stdout",
          "text": [
            "Requirement already satisfied: gdown in /usr/local/lib/python3.10/dist-packages (4.7.3)\n",
            "Requirement already satisfied: filelock in /usr/local/lib/python3.10/dist-packages (from gdown) (3.13.1)\n",
            "Requirement already satisfied: requests[socks] in /usr/local/lib/python3.10/dist-packages (from gdown) (2.31.0)\n",
            "Requirement already satisfied: six in /usr/local/lib/python3.10/dist-packages (from gdown) (1.16.0)\n",
            "Requirement already satisfied: tqdm in /usr/local/lib/python3.10/dist-packages (from gdown) (4.66.1)\n",
            "Requirement already satisfied: beautifulsoup4 in /usr/local/lib/python3.10/dist-packages (from gdown) (4.11.2)\n",
            "Requirement already satisfied: soupsieve>1.2 in /usr/local/lib/python3.10/dist-packages (from beautifulsoup4->gdown) (2.5)\n",
            "Requirement already satisfied: charset-normalizer<4,>=2 in /usr/local/lib/python3.10/dist-packages (from requests[socks]->gdown) (3.3.2)\n",
            "Requirement already satisfied: idna<4,>=2.5 in /usr/local/lib/python3.10/dist-packages (from requests[socks]->gdown) (3.6)\n",
            "Requirement already satisfied: urllib3<3,>=1.21.1 in /usr/local/lib/python3.10/dist-packages (from requests[socks]->gdown) (2.0.7)\n",
            "Requirement already satisfied: certifi>=2017.4.17 in /usr/local/lib/python3.10/dist-packages (from requests[socks]->gdown) (2023.11.17)\n",
            "Requirement already satisfied: PySocks!=1.5.7,>=1.5.6 in /usr/local/lib/python3.10/dist-packages (from requests[socks]->gdown) (1.7.1)\n"
          ]
        }
      ],
      "source": [
        "!pip install gdown"
      ]
    },
    {
      "cell_type": "code",
      "execution_count": 2,
      "metadata": {
        "id": "fnupIMtJq17F"
      },
      "outputs": [],
      "source": [
        "import re\n",
        "import json"
      ]
    },
    {
      "cell_type": "markdown",
      "metadata": {
        "id": "JYJfuiX7qrR9"
      },
      "source": [
        "# Headline accuracy"
      ]
    },
    {
      "cell_type": "code",
      "execution_count": 3,
      "metadata": {
        "colab": {
          "base_uri": "https://localhost:8080/"
        },
        "id": "Ragr2aOyp-QN",
        "outputId": "f49daf91-0f74-4ce4-9825-22086891e2a9"
      },
      "outputs": [
        {
          "output_type": "stream",
          "name": "stdout",
          "text": [
            "Downloading...\n",
            "From: https://huggingface.co/Mahmood1998/SEM_EVAL_2024/resolve/main/task7/task1/QP/no_fine_tune/test_headline_QP_No_fine_tune_test_set_model_responses.json?download=true\n",
            "To: /content/headline_model_responses.json\n",
            "100% 5.07M/5.07M [00:00<00:00, 28.3MB/s]\n",
            "Downloading...\n",
            "From: https://huggingface.co/Mahmood1998/SEM_EVAL_2024/resolve/main/task7/task1/QP/no_fine_tune/test_headline_QP_No_fine_tune_test_set_true_responses.json.json?download=true\n",
            "To: /content/headline_true_responses.json\n",
            "100% 82.4k/82.4k [00:00<00:00, 6.60MB/s]\n"
          ]
        }
      ],
      "source": [
        "!gdown --fuzzy -O headline_model_responses.json https://huggingface.co/Mahmood1998/SEM_EVAL_2024/resolve/main/task7/task1/QP/no_fine_tune/test_headline_QP_No_fine_tune_test_set_model_responses.json?download=true\n",
        "!gdown --fuzzy -O headline_true_responses.json https://huggingface.co/Mahmood1998/SEM_EVAL_2024/resolve/main/task7/task1/QP/no_fine_tune/test_headline_QP_No_fine_tune_test_set_true_responses.json.json?download=true"
      ]
    },
    {
      "cell_type": "code",
      "execution_count": 4,
      "metadata": {
        "id": "9m_CBmxfZpLL"
      },
      "outputs": [],
      "source": [
        "json_file_path = 'headline_model_responses.json'\n",
        "\n",
        "# Open the JSON file for reading\n",
        "with open(json_file_path, 'r') as json_file:\n",
        "    # Load the JSON data\n",
        "    headline = json.load(json_file)"
      ]
    },
    {
      "cell_type": "code",
      "execution_count": 5,
      "metadata": {
        "colab": {
          "base_uri": "https://localhost:8080/"
        },
        "id": "JA5LE9rnZpLP",
        "outputId": "d6f5baa0-d395-4316-dfef-cdae352e8871"
      },
      "outputs": [
        {
          "output_type": "execute_result",
          "data": {
            "text/plain": [
              "10000"
            ]
          },
          "metadata": {},
          "execution_count": 5
        }
      ],
      "source": [
        "len(headline)"
      ]
    },
    {
      "cell_type": "code",
      "execution_count": 6,
      "metadata": {
        "colab": {
          "base_uri": "https://localhost:8080/"
        },
        "id": "Q7_LQ7F4ZpLS",
        "outputId": "8c9e6f35-4f5d-4429-c447-4cc349d97d61"
      },
      "outputs": [
        {
          "output_type": "stream",
          "name": "stderr",
          "text": [
            "<string>:1: SyntaxWarning: 'int' object is not callable; perhaps you missed a comma?\n"
          ]
        }
      ],
      "source": [
        "list_dic = []\n",
        "\n",
        "for item in headline:\n",
        "\n",
        "    x:str = item[0].split('\\n')[-1]\n",
        "\n",
        "\n",
        "    if 'assistant' in x :\n",
        "        x = x.split('assistant')[-1]\n",
        "\n",
        "    # print(x)\n",
        "\n",
        "    if \">\" in x :\n",
        "        x = x.replace(\">\",'')\n",
        "\n",
        "    if \"1.\" in x :\n",
        "        x = x.replace(\"1.\",'')\n",
        "\n",
        "    if '#' in x:\n",
        "        x = x.replace('#','')\n",
        "\n",
        "    if '{' not in x:\n",
        "        x = '{' + x\n",
        "\n",
        "\n",
        "    if '}' not in x:\n",
        "            x = x + '}'\n",
        "\n",
        "\n",
        "    if 'Response: {Response' in x and \"'Response'\" not in x:\n",
        "        y = x.replace('Response: {Response',\"'Response'\")\n",
        "\n",
        "    elif 'response: {response' in x and \"'Response'\" not in x:\n",
        "        y = x.replace('response: {response',\"{'Response'\")\n",
        "\n",
        "    elif \"Response\" in x and \"'Response'\" not in x:\n",
        "        y = x.replace('Response',\"'Response'\")\n",
        "\n",
        "    elif 'response' in x and \"'response'\" not in x:\n",
        "        y = x.replace('response',\"'Response'\")\n",
        "\n",
        "    elif \"'Response'\" in x :\n",
        "        y = x\n",
        "\n",
        "    else:\n",
        "      y= \"{'Response': 'Error'}\"\n",
        "\n",
        "    try:\n",
        "        res = eval(y)\n",
        "    except:\n",
        "        # print(\"except\")\n",
        "        c_list = y.split(':')\n",
        "        y_part_2 = c_list[-1][:-1]\n",
        "        y = c_list[0]+':'+f'\"{y_part_2}\"'+'}'\n",
        "        res = eval(y)\n",
        "    list_dic.append(res)"
      ]
    },
    {
      "cell_type": "code",
      "execution_count": 7,
      "metadata": {
        "colab": {
          "base_uri": "https://localhost:8080/"
        },
        "id": "-mY8WnXNZpLT",
        "outputId": "f175d33b-5caf-4c1f-b6a5-25bcc45eab2e"
      },
      "outputs": [
        {
          "output_type": "execute_result",
          "data": {
            "text/plain": [
              "10000"
            ]
          },
          "metadata": {},
          "execution_count": 7
        }
      ],
      "source": [
        "len(list_dic)"
      ]
    },
    {
      "cell_type": "code",
      "execution_count": 8,
      "metadata": {
        "id": "NKQ2_sSzZpLT"
      },
      "outputs": [],
      "source": [
        "json_file_path = 'headline_true_responses.json'\n",
        "\n",
        "# Open the JSON file for reading\n",
        "with open(json_file_path, 'r') as json_file:\n",
        "    # Load the JSON data\n",
        "    headline_true = json.load(json_file)"
      ]
    },
    {
      "cell_type": "code",
      "execution_count": 9,
      "metadata": {
        "colab": {
          "base_uri": "https://localhost:8080/"
        },
        "id": "oTITP1G3ZpLU",
        "outputId": "db6c30a7-5598-494f-d727-e9617de52fb8"
      },
      "outputs": [
        {
          "output_type": "stream",
          "name": "stdout",
          "text": [
            "{'Response': 'Error'}\n",
            "{'Response': 'Error'}\n",
            "{'Response': 'Error'}\n",
            "{'Response': ' Num'}\n",
            "{'Response': 'Error'}\n",
            "{'Response': 'Error'}\n",
            "{'Response': ' Idaho'}\n",
            "{'Response': ' Num '}\n",
            "{'Response': ' Num '}\n",
            "{'Response': 'Error'}\n",
            "{'Response': 'Error'}\n",
            "{'Response': ' Complete predictions'}\n",
            "{'Response': 'Error'}\n",
            "{'Response': 'Error'}\n",
            "{'Response': 'Error'}\n",
            "{'Response': 'Error'}\n",
            "{'Response': 'Error'}\n",
            "{'Response': 'Error'}\n",
            "{'Response': 'Error'}\n",
            "{'Response': ' Num'}\n",
            "{'Response': ' Num '}\n",
            "{'Response': 'Error'}\n",
            "{'Response': 'Error'}\n",
            "{'Response': 'Error'}\n",
            "{'Response': ' Num'}\n",
            "{'Response': 'Error'}\n",
            "{'Response': 'Error'}\n",
            "{'Response': ' P '}\n",
            "{'Response': 'Error'}\n",
            "{'Response': 'Error'}\n",
            "{'Response': 'Error'}\n",
            "{'Response': 'Error'}\n",
            "{'Response': 'Error'}\n",
            "{'Response': ' Num'}\n",
            "{'Response': ' 612.377.288'}\n",
            "{'Response': ' Num'}\n",
            "{'Response': 'Error'}\n",
            "{'Response': 'Error'}\n",
            "{'Response': 'Error'}\n",
            "{'Response': 'Error'}\n",
            "{'Response': 'Error'}\n",
            "{'Response': ' OKC '}\n",
            "{'Response': 'Error'}\n",
            "{'Response': 'Error'}\n",
            "{'Response': 'Error'}\n",
            "{'Response': 'Error'}\n",
            "{'Response': 'Error'}\n",
            "{'Response': 'Error'}\n",
            "{'Response': 'Error'}\n",
            "{'Response': ''}\n",
            "{'Response': 'Error'}\n",
            "{'Response': 'Error'}\n",
            "{'Response': 'Error'}\n",
            "{'Response': 'Error'}\n",
            "Accuracy: 80.12%\n"
          ]
        }
      ],
      "source": [
        "list_wrong = []\n",
        "\n",
        "number_match = 0\n",
        "for predict,true_lable in zip(list_dic,headline_true):\n",
        "\n",
        "    predict_str = str(predict)\n",
        "    predict_update = re.sub(r'[^0-9.]', '', predict_str)\n",
        "\n",
        "    try:\n",
        "        if float(predict_update) == float(true_lable):\n",
        "            number_match += 1\n",
        "        else:\n",
        "            list_wrong.append([f'predict_update: {predict_update}',f'true_lable: {true_lable}'])\n",
        "\n",
        "    except:\n",
        "        print(predict)\n",
        "\n",
        "accuracy = number_match/len(list_dic)\n",
        "print(f\"Accuracy: {accuracy * 100:.2f}%\")\n"
      ]
    },
    {
      "cell_type": "markdown",
      "metadata": {
        "id": "13BbBLtjqX8U"
      },
      "source": [
        "# Command accuracy"
      ]
    },
    {
      "cell_type": "code",
      "execution_count": 10,
      "metadata": {
        "id": "68vFUzHprHJ1",
        "colab": {
          "base_uri": "https://localhost:8080/"
        },
        "outputId": "0db3d4dc-1c45-4ce1-edfe-ee3307c6e3f4"
      },
      "outputs": [
        {
          "output_type": "stream",
          "name": "stdout",
          "text": [
            "Downloading...\n",
            "From: https://huggingface.co/Mahmood1998/SEM_EVAL_2024/resolve/main/task7/task1/QP/no_fine_tune/test_Command_QP_No_fine_tune_test_set_model_responses.json?download=true\n",
            "To: /content/command_model_responses.json\n",
            "100% 5.57M/5.57M [00:00<00:00, 36.3MB/s]\n",
            "Downloading...\n",
            "From: https://huggingface.co/Mahmood1998/SEM_EVAL_2024/resolve/main/task7/task1/QP/no_fine_tune/test_Command_QP_No_fine_tune_test_set_true_response.json?download=true\n",
            "To: /content/command_true_responses.json\n",
            "100% 81.0k/81.0k [00:00<00:00, 6.19MB/s]\n"
          ]
        }
      ],
      "source": [
        "!gdown --fuzzy -O command_model_responses.json https://huggingface.co/Mahmood1998/SEM_EVAL_2024/resolve/main/task7/task1/QP/no_fine_tune/test_Command_QP_No_fine_tune_test_set_model_responses.json?download=true\n",
        "!gdown --fuzzy -O command_true_responses.json https://huggingface.co/Mahmood1998/SEM_EVAL_2024/resolve/main/task7/task1/QP/no_fine_tune/test_Command_QP_No_fine_tune_test_set_true_response.json?download=true"
      ]
    },
    {
      "cell_type": "code",
      "execution_count": 11,
      "metadata": {
        "id": "z93PYscJZpLV"
      },
      "outputs": [],
      "source": [
        "json_file_path = 'command_model_responses.json'\n",
        "\n",
        "# Open the JSON file for reading\n",
        "with open(json_file_path, 'r') as json_file:\n",
        "    # Load the JSON data\n",
        "    command = json.load(json_file)"
      ]
    },
    {
      "cell_type": "code",
      "execution_count": 12,
      "metadata": {
        "id": "-7ioTkjnZpLV",
        "colab": {
          "base_uri": "https://localhost:8080/"
        },
        "outputId": "01971055-035a-47db-e421-d3fd6412dc03"
      },
      "outputs": [
        {
          "output_type": "execute_result",
          "data": {
            "text/plain": [
              "10000"
            ]
          },
          "metadata": {},
          "execution_count": 12
        }
      ],
      "source": [
        "len(command)"
      ]
    },
    {
      "cell_type": "code",
      "execution_count": 13,
      "metadata": {
        "id": "SmIGv4-dZpLV"
      },
      "outputs": [],
      "source": [
        "list_dic = []\n",
        "\n",
        "for item in command:\n",
        "    x:str = item[0].split('\\n')[-1]\n",
        "\n",
        "    if 'assistant' in x :\n",
        "        x = x.split('assistant')[-1]\n",
        "\n",
        "    if '#' in x:\n",
        "        x = x.replace('#','')\n",
        "\n",
        "    if '{' not in x:\n",
        "        x = '{' + x\n",
        "\n",
        "\n",
        "    if '}' not in x:\n",
        "            x = x + '}'\n",
        "\n",
        "\n",
        "    if 'Response: {Response' in x and \"'Response'\" not in x:\n",
        "        y = x.replace('Response: {Response',\"'Response'\")\n",
        "\n",
        "    elif 'response: {response' in x and \"'Response'\" not in x:\n",
        "        y = x.replace('response: {response',\"{'Response'\")\n",
        "\n",
        "    elif \"Response\" in x and \"'Response'\" not in x:\n",
        "        y = x.replace('Response',\"'Response'\")\n",
        "\n",
        "    elif 'response' in x and \"'response'\" not in x:\n",
        "        y = x.replace('response',\"'Response'\")\n",
        "\n",
        "    else:\n",
        "      y=x\n",
        "\n",
        "    try:\n",
        "        res = eval(y)\n",
        "\n",
        "    except:\n",
        "        c_list = y.split(':')\n",
        "        y_part_2 = c_list[-1][:-1]\n",
        "        y = c_list[0]+':'+f'\"{y_part_2}\"'+'}'\n",
        "        res = eval(y)\n",
        "    list_dic.append(res)"
      ]
    },
    {
      "cell_type": "code",
      "execution_count": 14,
      "metadata": {
        "id": "t1xqUKa7iWc3",
        "colab": {
          "base_uri": "https://localhost:8080/"
        },
        "outputId": "c609b9c6-2d71-4a43-87a2-0bd9bbf756b2"
      },
      "outputs": [
        {
          "output_type": "execute_result",
          "data": {
            "text/plain": [
              "10000"
            ]
          },
          "metadata": {},
          "execution_count": 14
        }
      ],
      "source": [
        "len(list_dic)"
      ]
    },
    {
      "cell_type": "code",
      "execution_count": 15,
      "metadata": {
        "id": "kYlGYM5JZpLY"
      },
      "outputs": [],
      "source": [
        "json_file_path = 'command_true_responses.json'\n",
        "\n",
        "# Open the JSON file for reading\n",
        "with open(json_file_path, 'r') as json_file:\n",
        "    # Load the JSON data\n",
        "    command_true = json.load(json_file)"
      ]
    },
    {
      "cell_type": "code",
      "execution_count": 16,
      "metadata": {
        "id": "s8HsUt7sZpLY",
        "colab": {
          "base_uri": "https://localhost:8080/"
        },
        "outputId": "7329781b-1077-40d7-eeca-609daa4e2d3c"
      },
      "outputs": [
        {
          "output_type": "stream",
          "name": "stdout",
          "text": [
            "{'Response': ' 485.1 UP 0.8%'}\n",
            "{'Response': ' 0.4, 0.3'}\n",
            "{'Response': ' 1.5 BILLION 5.50% BONDS DUE 201'}\n",
            "{'Response': ' Num '}\n",
            "{'Response': ' Num'}\n",
            "{'Response': ' 104.14/BBL, UP $[11.83], HIGHE'}\n",
            "{'Response': ' Num'}\n",
            "{'Response': ' B'}\n",
            "{'Response': ' Num '}\n",
            "{'Response': ' 127.32 MLN SFR OF 1.25 PCT 20'}\n",
            "{'Response': ' 12.672.164'}\n",
            "{'Response': ' 146.63 - 2 TICKS = 144.63'}\n",
            "{'Response': ' 0.56-0.62/SHR'}\n",
            "Accuracy: 68.46%\n"
          ]
        }
      ],
      "source": [
        "list_wrong = []\n",
        "\n",
        "number_match = 0\n",
        "for predict,true_lable in zip(list_dic,command_true):\n",
        "\n",
        "    predict_str = str(predict)\n",
        "    predict_update = re.sub(r'[^0-9.]', '', predict_str)\n",
        "\n",
        "    try:\n",
        "        if float(predict_update) == float(true_lable):\n",
        "            number_match += 1\n",
        "        else:\n",
        "            list_wrong.append([f'predict_update: {predict_update}',f'true_lable: {true_lable}'])\n",
        "\n",
        "    except:\n",
        "        print(predict)\n",
        "\n",
        "accuracy = number_match/len(list_dic)\n",
        "print(f\"Accuracy: {accuracy * 100:.2f}%\")\n"
      ]
    }
  ],
  "metadata": {
    "colab": {
      "provenance": []
    },
    "kernelspec": {
      "display_name": "Python 3",
      "language": "python",
      "name": "python3"
    },
    "language_info": {
      "codemirror_mode": {
        "name": "ipython",
        "version": 3
      },
      "file_extension": ".py",
      "mimetype": "text/x-python",
      "name": "python",
      "nbconvert_exporter": "python",
      "pygments_lexer": "ipython3",
      "version": "3.10.12"
    }
  },
  "nbformat": 4,
  "nbformat_minor": 0
}